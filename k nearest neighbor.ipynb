{
 "cells": [
  {
   "cell_type": "code",
   "execution_count": 1,
   "metadata": {},
   "outputs": [],
   "source": [
    "import pandas as pd\n",
    "import matplotlib.pyplot as plt\n",
    "import numpy as np\n",
    "import random\n",
    "from IPython.display import display \n",
    "import math"
   ]
  },
  {
   "cell_type": "code",
   "execution_count": 2,
   "metadata": {},
   "outputs": [],
   "source": [
    "train_dataset = pd.read_csv('assignment01 data/train_knn.txt', sep=\",\" , header = None, dtype = 'float64')\n",
    "train_dataset = np.array(train_dataset)"
   ]
  },
  {
   "cell_type": "code",
   "execution_count": 3,
   "metadata": {},
   "outputs": [],
   "source": [
    "test_dataset = pd.read_csv('assignment01 data/test_knn.txt', sep=\",\" , header = None, dtype = 'float64')\n",
    "test_dataset = np.array(test_dataset)"
   ]
  },
  {
   "cell_type": "code",
   "execution_count": 4,
   "metadata": {},
   "outputs": [],
   "source": [
    "lx1 = []\n",
    "ly1 = []\n",
    "lx2 = []\n",
    "ly2 = []\n",
    "for i in range(train_dataset.shape[0]):\n",
    "    if train_dataset[i][2] == 1.0:\n",
    "        lx1.append(train_dataset[i][0])\n",
    "        ly1.append(train_dataset[i][1])\n",
    "    else:\n",
    "        lx2.append(train_dataset[i][0])\n",
    "        ly2.append(train_dataset[i][1])\n"
   ]
  },
  {
   "cell_type": "code",
   "execution_count": 5,
   "metadata": {},
   "outputs": [
    {
     "data": {
      "text/plain": [
       "<matplotlib.legend.Legend at 0x17be5946d60>"
      ]
     },
     "execution_count": 5,
     "metadata": {},
     "output_type": "execute_result"
    },
    {
     "data": {
      "image/png": "[encoded data removed]",
      "text/plain": [
       "<Figure size 432x288 with 1 Axes>"
      ]
     },
     "metadata": {
      "needs_background": "light"
     },
     "output_type": "display_data"
    }
   ],
   "source": [
    "plt.scatter(lx1,ly1, color = 'g',marker = \"^\", alpha = 0.6,  label = 'class 1')\n",
    "plt.scatter(lx2,ly2, color = 'b',marker = \"*\", alpha = 0.6,  label = 'class 2')\n",
    "plt.xlabel('x')\n",
    "plt.ylabel('y')\n",
    "plt.legend()"
   ]
  },
  {
   "cell_type": "code",
   "execution_count": 6,
   "metadata": {},
   "outputs": [
    {
     "name": "stdout",
     "output_type": "stream",
     "text": [
      "3\n"
     ]
    }
   ],
   "source": [
    "k = int(input())"
   ]
  },
  {
   "cell_type": "code",
   "execution_count": 12,
   "metadata": {},
   "outputs": [
    {
     "name": "stdout",
     "output_type": "stream",
     "text": [
      "Distance 1 3.0 Class 1\n",
      "Distance 2 3.0 Class 2\n",
      "Distance 3 3.1622776601683795 Class 1\n",
      "Predicted Class : 1\n",
      "\n",
      "\n",
      "Distance 1 0.0 Class 1\n",
      "Distance 2 1.0 Class 1\n",
      "Distance 3 1.0 Class 1\n",
      "Predicted Class : 1\n",
      "\n",
      "\n",
      "Distance 1 0.0 Class 2\n",
      "Distance 2 1.0 Class 2\n",
      "Distance 3 1.0 Class 2\n",
      "Predicted Class : 2\n",
      "\n",
      "\n",
      "Distance 1 4.123105625617661 Class 1\n",
      "Distance 2 4.123105625617661 Class 2\n",
      "Distance 3 4.123105625617661 Class 2\n",
      "Predicted Class : 2\n",
      "\n",
      "\n",
      "Distance 1 1.0 Class 2\n",
      "Distance 2 1.4142135623730951 Class 2\n",
      "Distance 3 2.0 Class 2\n",
      "Predicted Class : 2\n",
      "\n",
      "\n",
      "Distance 1 1.4142135623730951 Class 2\n",
      "Distance 2 2.0 Class 2\n",
      "Distance 3 2.0 Class 2\n",
      "Predicted Class : 2\n",
      "\n",
      "\n",
      "Distance 1 2.23606797749979 Class 1\n",
      "Distance 2 2.8284271247461903 Class 1\n",
      "Distance 3 3.1622776601683795 Class 1\n",
      "Predicted Class : 1\n",
      "\n",
      "\n",
      "Distance 1 1.4142135623730951 Class 1\n",
      "Distance 2 2.23606797749979 Class 1\n",
      "Distance 3 2.23606797749979 Class 1\n",
      "Predicted Class : 1\n",
      "\n",
      "\n",
      "Distance 1 1.0 Class 1\n",
      "Distance 2 1.4142135623730951 Class 1\n",
      "Distance 3 2.0 Class 1\n",
      "Predicted Class : 1\n",
      "\n",
      "\n"
     ]
    }
   ],
   "source": [
    "n = test_dataset.shape[0]\n",
    "m = train_dataset.shape[0]\n",
    "classified_testdata = []\n",
    "f = open(\"knn.txt\", \"w\")\n",
    "for i in range(n):\n",
    "    l = []\n",
    "    t = []\n",
    "    for j in range(m):\n",
    "        a = math.sqrt((test_dataset[i][0] - train_dataset[j][0])**2 +  (test_dataset[i][1] - train_dataset[j][1])**2)\n",
    "        temp = []\n",
    "        temp.append(train_dataset[j][0])\n",
    "        temp.append(train_dataset[j][1])\n",
    "        temp.append(train_dataset[j][2])\n",
    "        temp.append(a)\n",
    "        l.append(temp)\n",
    "    l = sorted(l, key=lambda a_entry: a_entry[3]) \n",
    "    #print(l)\n",
    "    count1 = 0\n",
    "    count2 = 0\n",
    "    for obj in range(k):\n",
    "        print('Distance '+ str(obj+1)+ ' '+str(l[obj][3]) + ' Class' + ' ' + str(int(l[obj][2])))\n",
    "        f.write('Distance '+ str(obj+1)+ ' '+str(l[obj][3]) + ' Class' + ' ' + str(int(l[obj][2])))\n",
    "        f.write('\\n')\n",
    "        if l[obj][2] == 1.0:\n",
    "            count1 = count1 + 1\n",
    "        elif l[obj][2] == 2.0:\n",
    "            count2 = count2 + 1\n",
    "    \n",
    "    if count1>count2:\n",
    "        t.append(test_dataset[i][0])\n",
    "        t.append(test_dataset[i][1])\n",
    "        t.append(1)\n",
    "        classified_testdata.append(t)\n",
    "       \n",
    "        print('Predicted Class : 1')\n",
    "        f.write('Predicted Class : 1')\n",
    "        f.write('\\n')\n",
    "    else:\n",
    "        print('Predicted Class : 2')\n",
    "        t.append(test_dataset[i][0])\n",
    "        t.append(test_dataset[i][1])\n",
    "        t.append(2)\n",
    "        classified_testdata.append(t)\n",
    "        \n",
    "        f.write('Predicted Class : 2')\n",
    "        f.write('\\n')\n",
    "    f.write('\\n')\n",
    "    print('\\n')\n",
    "f.close()"
   ]
  },
  {
   "cell_type": "code",
   "execution_count": 14,
   "metadata": {},
   "outputs": [],
   "source": [
    "classified_testdata = np.array(classified_testdata)\n",
    "lxx1 = []\n",
    "lyy1 = []\n",
    "lxx2 = []\n",
    "lyy2 = []\n",
    "for i in range(classified_testdata.shape[0]):\n",
    "    if classified_testdata[i][2] == 1.0:\n",
    "        lxx1.append(classified_testdata[i][0])\n",
    "        lyy1.append(classified_testdata[i][1])\n",
    "    else:\n",
    "        lxx2.append(classified_testdata[i][0])\n",
    "        lyy2.append(classified_testdata[i][1])"
   ]
  },
  {
   "cell_type": "code",
   "execution_count": 15,
   "metadata": {},
   "outputs": [
    {
     "data": {
      "text/plain": [
       "<matplotlib.legend.Legend at 0x17be7b3a7f0>"
      ]
     },
     "execution_count": 15,
     "metadata": {},
     "output_type": "execute_result"
    },
    {
     "data": {
      "image/png": "[encoded data removed]",
      "text/plain": [
       "<Figure size 432x288 with 1 Axes>"
      ]
     },
     "metadata": {
      "needs_background": "light"
     },
     "output_type": "display_data"
    }
   ],
   "source": [
    "plt.scatter(lxx1,lyy1, color = 'g',marker = \"^\", alpha = 0.6,  label = 'class 1')\n",
    "plt.scatter(lxx2,lyy2, color = 'b',marker = \"*\", alpha = 0.6,  label = 'class 2')\n",
    "plt.xlabel('x')\n",
    "plt.ylabel('y')\n",
    "plt.legend()"
   ]
  },
  {
   "cell_type": "code",
   "execution_count": null,
   "metadata": {},
   "outputs": [],
   "source": []
  }
 ],
 "metadata": {
  "kernelspec": {
   "display_name": "TensorFlow",
   "language": "python",
   "name": "tensorflow"
  },
  "language_info": {
   "codemirror_mode": {
    "name": "ipython",
    "version": 3
   },
   "file_extension": ".py",
   "mimetype": "text/x-python",
   "name": "python",
   "nbconvert_exporter": "python",
   "pygments_lexer": "ipython3",
   "version": "3.8.5"
  }
 },
 "nbformat": 4,
 "nbformat_minor": 4
}
